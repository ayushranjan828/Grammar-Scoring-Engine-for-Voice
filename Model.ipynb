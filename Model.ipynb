{
 "cells": [
  {
   "cell_type": "code",
   "execution_count": 3,
   "metadata": {},
   "outputs": [
    {
     "name": "stdout",
     "output_type": "stream",
     "text": [
      "Collecting openai-whisper\n",
      "  Downloading openai-whisper-20240930.tar.gz (800 kB)\n",
      "     ---------------------------------------- 0.0/800.5 kB ? eta -:--:--\n",
      "     ------------- -------------------------- 262.1/800.5 kB ? eta -:--:--\n",
      "     -------------------------------------- 800.5/800.5 kB 5.7 MB/s eta 0:00:00\n",
      "  Installing build dependencies: started\n",
      "  Installing build dependencies: finished with status 'done'\n",
      "  Getting requirements to build wheel: started\n",
      "  Getting requirements to build wheel: finished with status 'done'\n",
      "  Preparing metadata (pyproject.toml): started\n",
      "  Preparing metadata (pyproject.toml): finished with status 'done'\n",
      "Requirement already satisfied: numba in c:\\users\\ayush\\appdata\\local\\programs\\python\\python312\\lib\\site-packages (from openai-whisper) (0.59.1)\n",
      "Requirement already satisfied: numpy in c:\\users\\ayush\\appdata\\local\\programs\\python\\python312\\lib\\site-packages (from openai-whisper) (1.26.4)\n",
      "Collecting torch (from openai-whisper)\n",
      "  Downloading torch-2.6.0-cp312-cp312-win_amd64.whl.metadata (28 kB)\n",
      "Requirement already satisfied: tqdm in c:\\users\\ayush\\appdata\\local\\programs\\python\\python312\\lib\\site-packages (from openai-whisper) (4.66.2)\n",
      "Collecting more-itertools (from openai-whisper)\n",
      "  Downloading more_itertools-10.6.0-py3-none-any.whl.metadata (37 kB)\n",
      "Collecting tiktoken (from openai-whisper)\n",
      "  Downloading tiktoken-0.9.0-cp312-cp312-win_amd64.whl.metadata (6.8 kB)\n",
      "Requirement already satisfied: llvmlite<0.43,>=0.42.0dev0 in c:\\users\\ayush\\appdata\\local\\programs\\python\\python312\\lib\\site-packages (from numba->openai-whisper) (0.42.0)\n",
      "Requirement already satisfied: regex>=2022.1.18 in c:\\users\\ayush\\appdata\\local\\programs\\python\\python312\\lib\\site-packages (from tiktoken->openai-whisper) (2023.12.25)\n",
      "Requirement already satisfied: requests>=2.26.0 in c:\\users\\ayush\\appdata\\local\\programs\\python\\python312\\lib\\site-packages (from tiktoken->openai-whisper) (2.31.0)\n",
      "Collecting filelock (from torch->openai-whisper)\n",
      "  Downloading filelock-3.18.0-py3-none-any.whl.metadata (2.9 kB)\n",
      "Requirement already satisfied: typing-extensions>=4.10.0 in c:\\users\\ayush\\appdata\\local\\programs\\python\\python312\\lib\\site-packages (from torch->openai-whisper) (4.10.0)\n",
      "Collecting networkx (from torch->openai-whisper)\n",
      "  Downloading networkx-3.4.2-py3-none-any.whl.metadata (6.3 kB)\n",
      "Requirement already satisfied: jinja2 in c:\\users\\ayush\\appdata\\local\\programs\\python\\python312\\lib\\site-packages (from torch->openai-whisper) (3.1.3)\n",
      "Collecting fsspec (from torch->openai-whisper)\n",
      "  Downloading fsspec-2025.3.2-py3-none-any.whl.metadata (11 kB)\n",
      "Requirement already satisfied: setuptools in c:\\users\\ayush\\appdata\\local\\programs\\python\\python312\\lib\\site-packages (from torch->openai-whisper) (69.1.1)\n",
      "Collecting sympy==1.13.1 (from torch->openai-whisper)\n",
      "  Downloading sympy-1.13.1-py3-none-any.whl.metadata (12 kB)\n",
      "Collecting mpmath<1.4,>=1.1.0 (from sympy==1.13.1->torch->openai-whisper)\n",
      "  Downloading mpmath-1.3.0-py3-none-any.whl.metadata (8.6 kB)\n",
      "Requirement already satisfied: colorama in c:\\users\\ayush\\appdata\\roaming\\python\\python312\\site-packages (from tqdm->openai-whisper) (0.4.6)\n",
      "Requirement already satisfied: charset-normalizer<4,>=2 in c:\\users\\ayush\\appdata\\local\\programs\\python\\python312\\lib\\site-packages (from requests>=2.26.0->tiktoken->openai-whisper) (3.3.2)\n",
      "Requirement already satisfied: idna<4,>=2.5 in c:\\users\\ayush\\appdata\\local\\programs\\python\\python312\\lib\\site-packages (from requests>=2.26.0->tiktoken->openai-whisper) (3.6)\n",
      "Requirement already satisfied: urllib3<3,>=1.21.1 in c:\\users\\ayush\\appdata\\local\\programs\\python\\python312\\lib\\site-packages (from requests>=2.26.0->tiktoken->openai-whisper) (2.2.1)\n",
      "Requirement already satisfied: certifi>=2017.4.17 in c:\\users\\ayush\\appdata\\local\\programs\\python\\python312\\lib\\site-packages (from requests>=2.26.0->tiktoken->openai-whisper) (2024.2.2)\n",
      "Requirement already satisfied: MarkupSafe>=2.0 in c:\\users\\ayush\\appdata\\local\\programs\\python\\python312\\lib\\site-packages (from jinja2->torch->openai-whisper) (2.1.5)\n",
      "Downloading more_itertools-10.6.0-py3-none-any.whl (63 kB)\n",
      "Downloading tiktoken-0.9.0-cp312-cp312-win_amd64.whl (894 kB)\n",
      "   ---------------------------------------- 0.0/894.9 kB ? eta -:--:--\n",
      "   ---------------------------------------- 894.9/894.9 kB 5.8 MB/s eta 0:00:00\n",
      "Downloading torch-2.6.0-cp312-cp312-win_amd64.whl (204.1 MB)\n",
      "   ---------------------------------------- 0.0/204.1 MB ? eta -:--:--\n",
      "   ---------------------------------------- 2.4/204.1 MB 11.2 MB/s eta 0:00:19\n",
      "    --------------------------------------- 4.7/204.1 MB 10.9 MB/s eta 0:00:19\n",
      "   - -------------------------------------- 7.3/204.1 MB 11.3 MB/s eta 0:00:18\n",
      "   -- ------------------------------------- 10.5/204.1 MB 12.1 MB/s eta 0:00:16\n",
      "   -- ------------------------------------- 12.3/204.1 MB 11.5 MB/s eta 0:00:17\n",
      "   -- ------------------------------------- 13.9/204.1 MB 11.6 MB/s eta 0:00:17\n",
      "   -- ------------------------------------- 14.7/204.1 MB 10.6 MB/s eta 0:00:18\n",
      "   -- ------------------------------------- 14.7/204.1 MB 10.6 MB/s eta 0:00:18\n",
      "   --- ------------------------------------ 16.3/204.1 MB 8.5 MB/s eta 0:00:23\n",
      "   --- ------------------------------------ 18.1/204.1 MB 8.6 MB/s eta 0:00:22\n",
      "   --- ------------------------------------ 20.2/204.1 MB 8.6 MB/s eta 0:00:22\n",
      "   ---- ----------------------------------- 22.3/204.1 MB 8.7 MB/s eta 0:00:21\n",
      "   ---- ----------------------------------- 24.6/204.1 MB 8.9 MB/s eta 0:00:21\n",
      "   ----- ---------------------------------- 26.7/204.1 MB 9.0 MB/s eta 0:00:20\n",
      "   ----- ---------------------------------- 29.1/204.1 MB 9.1 MB/s eta 0:00:20\n",
      "   ------ --------------------------------- 30.7/204.1 MB 9.0 MB/s eta 0:00:20\n",
      "   ------ --------------------------------- 32.5/204.1 MB 9.0 MB/s eta 0:00:20\n",
      "   ------ --------------------------------- 35.4/204.1 MB 9.2 MB/s eta 0:00:19\n",
      "   ------- -------------------------------- 37.5/204.1 MB 9.3 MB/s eta 0:00:18\n",
      "   ------- -------------------------------- 40.1/204.1 MB 9.4 MB/s eta 0:00:18\n",
      "   -------- ------------------------------- 42.5/204.1 MB 9.5 MB/s eta 0:00:17\n",
      "   -------- ------------------------------- 45.1/204.1 MB 9.6 MB/s eta 0:00:17\n",
      "   --------- ------------------------------ 47.2/204.1 MB 9.6 MB/s eta 0:00:17\n",
      "   --------- ------------------------------ 49.8/204.1 MB 9.7 MB/s eta 0:00:16\n",
      "   ---------- ----------------------------- 53.0/204.1 MB 9.9 MB/s eta 0:00:16\n",
      "   ---------- ----------------------------- 55.6/204.1 MB 10.0 MB/s eta 0:00:15\n",
      "   ----------- ---------------------------- 57.9/204.1 MB 10.0 MB/s eta 0:00:15\n",
      "   ----------- ---------------------------- 60.6/204.1 MB 10.1 MB/s eta 0:00:15\n",
      "   ------------ --------------------------- 63.4/204.1 MB 10.2 MB/s eta 0:00:14\n",
      "   ------------ --------------------------- 66.3/204.1 MB 10.3 MB/s eta 0:00:14\n",
      "   ------------- -------------------------- 68.7/204.1 MB 10.3 MB/s eta 0:00:14\n",
      "   ------------- -------------------------- 71.3/204.1 MB 10.5 MB/s eta 0:00:13\n",
      "   -------------- ------------------------- 73.1/204.1 MB 10.3 MB/s eta 0:00:13\n",
      "   -------------- ------------------------- 74.7/204.1 MB 10.3 MB/s eta 0:00:13\n",
      "   --------------- ------------------------ 77.3/204.1 MB 10.3 MB/s eta 0:00:13\n",
      "   --------------- ------------------------ 80.0/204.1 MB 10.3 MB/s eta 0:00:13\n",
      "   ---------------- ----------------------- 82.6/204.1 MB 10.4 MB/s eta 0:00:12\n",
      "   ---------------- ----------------------- 86.0/204.1 MB 10.6 MB/s eta 0:00:12\n",
      "   ----------------- ---------------------- 88.1/204.1 MB 10.5 MB/s eta 0:00:12\n",
      "   ----------------- ---------------------- 90.7/204.1 MB 10.6 MB/s eta 0:00:11\n",
      "   ------------------ --------------------- 92.8/204.1 MB 10.6 MB/s eta 0:00:11\n",
      "   ------------------ --------------------- 96.2/204.1 MB 10.7 MB/s eta 0:00:11\n",
      "   ------------------- -------------------- 98.3/204.1 MB 10.7 MB/s eta 0:00:10\n",
      "   ------------------- ------------------- 100.9/204.1 MB 10.7 MB/s eta 0:00:10\n",
      "   ------------------- ------------------- 104.1/204.1 MB 10.8 MB/s eta 0:00:10\n",
      "   -------------------- ------------------ 106.7/204.1 MB 10.8 MB/s eta 0:00:10\n",
      "   -------------------- ------------------ 109.1/204.1 MB 10.8 MB/s eta 0:00:09\n",
      "   --------------------- ----------------- 112.2/204.1 MB 10.9 MB/s eta 0:00:09\n",
      "   --------------------- ----------------- 115.1/204.1 MB 11.0 MB/s eta 0:00:09\n",
      "   ---------------------- ---------------- 117.4/204.1 MB 11.0 MB/s eta 0:00:08\n",
      "   ---------------------- ---------------- 119.8/204.1 MB 11.0 MB/s eta 0:00:08\n",
      "   ----------------------- --------------- 122.9/204.1 MB 11.0 MB/s eta 0:00:08\n",
      "   ----------------------- --------------- 125.3/204.1 MB 11.1 MB/s eta 0:00:08\n",
      "   ------------------------ -------------- 127.7/204.1 MB 11.0 MB/s eta 0:00:07\n",
      "   ------------------------ -------------- 129.8/204.1 MB 11.0 MB/s eta 0:00:07\n",
      "   ------------------------- ------------- 132.6/204.1 MB 11.0 MB/s eta 0:00:07\n",
      "   ------------------------- ------------- 135.3/204.1 MB 11.1 MB/s eta 0:00:07\n",
      "   -------------------------- ------------ 137.9/204.1 MB 11.1 MB/s eta 0:00:06\n",
      "   -------------------------- ------------ 140.8/204.1 MB 11.1 MB/s eta 0:00:06\n",
      "   --------------------------- ----------- 143.4/204.1 MB 11.1 MB/s eta 0:00:06\n",
      "   --------------------------- ----------- 146.0/204.1 MB 11.1 MB/s eta 0:00:06\n",
      "   ---------------------------- ---------- 148.1/204.1 MB 11.1 MB/s eta 0:00:06\n",
      "   ---------------------------- ---------- 150.2/204.1 MB 11.1 MB/s eta 0:00:05\n",
      "   ---------------------------- ---------- 151.3/204.1 MB 11.0 MB/s eta 0:00:05\n",
      "   ----------------------------- --------- 153.9/204.1 MB 11.0 MB/s eta 0:00:05\n",
      "   ----------------------------- --------- 156.8/204.1 MB 11.1 MB/s eta 0:00:05\n",
      "   ------------------------------ -------- 159.1/204.1 MB 11.1 MB/s eta 0:00:05\n",
      "   ------------------------------ -------- 161.7/204.1 MB 11.1 MB/s eta 0:00:04\n",
      "   ------------------------------- ------- 164.4/204.1 MB 11.1 MB/s eta 0:00:04\n",
      "   -------------------------------- ------ 167.5/204.1 MB 11.1 MB/s eta 0:00:04\n",
      "   -------------------------------- ------ 170.7/204.1 MB 11.2 MB/s eta 0:00:03\n",
      "   --------------------------------- ----- 173.3/204.1 MB 11.2 MB/s eta 0:00:03\n",
      "   --------------------------------- ----- 175.6/204.1 MB 11.2 MB/s eta 0:00:03\n",
      "   --------------------------------- ----- 176.9/204.1 MB 11.1 MB/s eta 0:00:03\n",
      "   ---------------------------------- ---- 179.8/204.1 MB 11.2 MB/s eta 0:00:03\n",
      "   ----------------------------------- --- 183.2/204.1 MB 11.2 MB/s eta 0:00:02\n",
      "   ----------------------------------- --- 186.1/204.1 MB 11.3 MB/s eta 0:00:02\n",
      "   ------------------------------------ -- 188.5/204.1 MB 11.3 MB/s eta 0:00:02\n",
      "   ------------------------------------ -- 191.4/204.1 MB 11.3 MB/s eta 0:00:02\n",
      "   ------------------------------------- - 194.0/204.1 MB 11.3 MB/s eta 0:00:01\n",
      "   ------------------------------------- - 196.6/204.1 MB 11.3 MB/s eta 0:00:01\n",
      "   --------------------------------------  199.2/204.1 MB 11.3 MB/s eta 0:00:01\n",
      "   --------------------------------------  201.9/204.1 MB 11.3 MB/s eta 0:00:01\n",
      "   --------------------------------------  203.9/204.1 MB 11.3 MB/s eta 0:00:01\n",
      "   --------------------------------------  203.9/204.1 MB 11.3 MB/s eta 0:00:01\n",
      "   --------------------------------------  203.9/204.1 MB 11.3 MB/s eta 0:00:01\n",
      "   --------------------------------------- 204.1/204.1 MB 11.0 MB/s eta 0:00:00\n",
      "Downloading sympy-1.13.1-py3-none-any.whl (6.2 MB)\n",
      "   ---------------------------------------- 0.0/6.2 MB ? eta -:--:--\n",
      "   ----------------------- ---------------- 3.7/6.2 MB 18.2 MB/s eta 0:00:01\n",
      "   ---------------------------------------- 6.2/6.2 MB 14.6 MB/s eta 0:00:00\n",
      "Downloading filelock-3.18.0-py3-none-any.whl (16 kB)\n",
      "Downloading fsspec-2025.3.2-py3-none-any.whl (194 kB)\n",
      "Downloading networkx-3.4.2-py3-none-any.whl (1.7 MB)\n",
      "   ---------------------------------------- 0.0/1.7 MB ? eta -:--:--\n",
      "   ---------------------------------------- 1.7/1.7 MB 18.5 MB/s eta 0:00:00\n",
      "Downloading mpmath-1.3.0-py3-none-any.whl (536 kB)\n",
      "   ---------------------------------------- 0.0/536.2 kB ? eta -:--:--\n",
      "   --------------------------------------- 536.2/536.2 kB 17.1 MB/s eta 0:00:00\n",
      "Building wheels for collected packages: openai-whisper\n",
      "  Building wheel for openai-whisper (pyproject.toml): started\n",
      "  Building wheel for openai-whisper (pyproject.toml): finished with status 'done'\n",
      "  Created wheel for openai-whisper: filename=openai_whisper-20240930-py3-none-any.whl size=803439 sha256=f63bd482c7ed4b7262a0da4a0581d4b738a3a8128db0acf28ae89c0b757f6f47\n",
      "  Stored in directory: c:\\users\\ayush\\appdata\\local\\pip\\cache\\wheels\\7c\\f5\\6f\\92094c35416f9397abb86b23cfe72fb255a3013012f983136d\n",
      "Successfully built openai-whisper\n",
      "Installing collected packages: mpmath, sympy, networkx, more-itertools, fsspec, filelock, torch, tiktoken, openai-whisper\n",
      "Successfully installed filelock-3.18.0 fsspec-2025.3.2 more-itertools-10.6.0 mpmath-1.3.0 networkx-3.4.2 openai-whisper-20240930 sympy-1.13.1 tiktoken-0.9.0 torch-2.6.0\n",
      "Requirement already satisfied: torch in c:\\users\\ayush\\appdata\\local\\programs\\python\\python312\\lib\\site-packages (2.6.0)\n",
      "Requirement already satisfied: filelock in c:\\users\\ayush\\appdata\\local\\programs\\python\\python312\\lib\\site-packages (from torch) (3.18.0)\n",
      "Requirement already satisfied: typing-extensions>=4.10.0 in c:\\users\\ayush\\appdata\\local\\programs\\python\\python312\\lib\\site-packages (from torch) (4.10.0)\n",
      "Requirement already satisfied: networkx in c:\\users\\ayush\\appdata\\local\\programs\\python\\python312\\lib\\site-packages (from torch) (3.4.2)\n",
      "Requirement already satisfied: jinja2 in c:\\users\\ayush\\appdata\\local\\programs\\python\\python312\\lib\\site-packages (from torch) (3.1.3)\n",
      "Requirement already satisfied: fsspec in c:\\users\\ayush\\appdata\\local\\programs\\python\\python312\\lib\\site-packages (from torch) (2025.3.2)\n",
      "Requirement already satisfied: setuptools in c:\\users\\ayush\\appdata\\local\\programs\\python\\python312\\lib\\site-packages (from torch) (69.1.1)\n",
      "Requirement already satisfied: sympy==1.13.1 in c:\\users\\ayush\\appdata\\local\\programs\\python\\python312\\lib\\site-packages (from torch) (1.13.1)\n",
      "Requirement already satisfied: mpmath<1.4,>=1.1.0 in c:\\users\\ayush\\appdata\\local\\programs\\python\\python312\\lib\\site-packages (from sympy==1.13.1->torch) (1.3.0)\n",
      "Requirement already satisfied: MarkupSafe>=2.0 in c:\\users\\ayush\\appdata\\local\\programs\\python\\python312\\lib\\site-packages (from jinja2->torch) (2.1.5)\n",
      "Requirement already satisfied: pandas in c:\\users\\ayush\\appdata\\local\\programs\\python\\python312\\lib\\site-packages (2.2.3)\n",
      "Requirement already satisfied: scikit-learn in c:\\users\\ayush\\appdata\\local\\programs\\python\\python312\\lib\\site-packages (1.5.2)\n",
      "Requirement already satisfied: numpy>=1.26.0 in c:\\users\\ayush\\appdata\\local\\programs\\python\\python312\\lib\\site-packages (from pandas) (1.26.4)\n",
      "Requirement already satisfied: python-dateutil>=2.8.2 in c:\\users\\ayush\\appdata\\local\\programs\\python\\python312\\lib\\site-packages (from pandas) (2.9.0.post0)\n",
      "Requirement already satisfied: pytz>=2020.1 in c:\\users\\ayush\\appdata\\local\\programs\\python\\python312\\lib\\site-packages (from pandas) (2024.1)\n",
      "Requirement already satisfied: tzdata>=2022.7 in c:\\users\\ayush\\appdata\\local\\programs\\python\\python312\\lib\\site-packages (from pandas) (2024.1)\n",
      "Requirement already satisfied: scipy>=1.6.0 in c:\\users\\ayush\\appdata\\local\\programs\\python\\python312\\lib\\site-packages (from scikit-learn) (1.12.0)\n",
      "Requirement already satisfied: joblib>=1.2.0 in c:\\users\\ayush\\appdata\\local\\programs\\python\\python312\\lib\\site-packages (from scikit-learn) (1.3.2)\n",
      "Requirement already satisfied: threadpoolctl>=3.1.0 in c:\\users\\ayush\\appdata\\local\\programs\\python\\python312\\lib\\site-packages (from scikit-learn) (3.3.0)\n",
      "Requirement already satisfied: six>=1.5 in c:\\users\\ayush\\appdata\\local\\programs\\python\\python312\\lib\\site-packages (from python-dateutil>=2.8.2->pandas) (1.16.0)\n",
      "Collecting language-tool-python\n",
      "  Downloading language_tool_python-2.9.2-py3-none-any.whl.metadata (54 kB)\n",
      "Requirement already satisfied: requests in c:\\users\\ayush\\appdata\\local\\programs\\python\\python312\\lib\\site-packages (from language-tool-python) (2.31.0)\n",
      "Requirement already satisfied: tqdm in c:\\users\\ayush\\appdata\\local\\programs\\python\\python312\\lib\\site-packages (from language-tool-python) (4.66.2)\n",
      "Requirement already satisfied: psutil in c:\\users\\ayush\\appdata\\roaming\\python\\python312\\site-packages (from language-tool-python) (5.9.8)\n",
      "Collecting toml (from language-tool-python)\n",
      "  Downloading toml-0.10.2-py2.py3-none-any.whl.metadata (7.1 kB)\n",
      "Requirement already satisfied: charset-normalizer<4,>=2 in c:\\users\\ayush\\appdata\\local\\programs\\python\\python312\\lib\\site-packages (from requests->language-tool-python) (3.3.2)\n",
      "Requirement already satisfied: idna<4,>=2.5 in c:\\users\\ayush\\appdata\\local\\programs\\python\\python312\\lib\\site-packages (from requests->language-tool-python) (3.6)\n",
      "Requirement already satisfied: urllib3<3,>=1.21.1 in c:\\users\\ayush\\appdata\\local\\programs\\python\\python312\\lib\\site-packages (from requests->language-tool-python) (2.2.1)\n",
      "Requirement already satisfied: certifi>=2017.4.17 in c:\\users\\ayush\\appdata\\local\\programs\\python\\python312\\lib\\site-packages (from requests->language-tool-python) (2024.2.2)\n",
      "Requirement already satisfied: colorama in c:\\users\\ayush\\appdata\\roaming\\python\\python312\\site-packages (from tqdm->language-tool-python) (0.4.6)\n",
      "Downloading language_tool_python-2.9.2-py3-none-any.whl (54 kB)\n",
      "Downloading toml-0.10.2-py2.py3-none-any.whl (16 kB)\n",
      "Installing collected packages: toml, language-tool-python\n",
      "Successfully installed language-tool-python-2.9.2 toml-0.10.2\n"
     ]
    }
   ],
   "source": [
    "!pip install openai-whisper\n",
    "!pip install torch\n",
    "!pip install pandas scikit-learn\n",
    "!pip install language-tool-python"
   ]
  },
  {
   "cell_type": "code",
   "execution_count": 36,
   "metadata": {},
   "outputs": [],
   "source": [
    "import whisper\n",
    "import language_tool_python\n",
    "from sklearn.ensemble import RandomForestRegressor\n",
    "from sklearn.model_selection import train_test_split\n",
    "from sklearn.metrics import mean_squared_error\n",
    "import pandas as pd\n",
    "import numpy as np\n",
    "import os\n",
    "import warnings\n",
    "warnings.filterwarnings(\"ignore\")"
   ]
  },
  {
   "cell_type": "markdown",
   "metadata": {},
   "source": [
    "# Voice to Text using Whisper"
   ]
  },
  {
   "cell_type": "code",
   "execution_count": 14,
   "metadata": {},
   "outputs": [],
   "source": [
    "def transcribe_audio(file_path):\n",
    "    model = whisper.load_model(\"base\")\n",
    "    result = model.transcribe(file_path)\n",
    "    return result[\"text\"]\n"
   ]
  },
  {
   "cell_type": "code",
   "execution_count": 39,
   "metadata": {},
   "outputs": [],
   "source": [
    "def transcribe_audio(file_path):\n",
    "    # Check if file exists\n",
    "    if not os.path.exists(file_path):\n",
    "        raise FileNotFoundError(f\"Audio file not found: {file_path}\")\n",
    "    \n",
    "    try:\n",
    "        model = whisper.load_model(\"base\")\n",
    "        result = model.transcribe(file_path)\n",
    "        return result[\"text\"]\n",
    "    except Exception as e:\n",
    "        print(f\"Error during transcription: {e}\")\n",
    "        return \"\"\n"
   ]
  },
  {
   "cell_type": "markdown",
   "metadata": {},
   "source": [
    "# Grammar Feature Extraction using LanguageTool"
   ]
  },
  {
   "cell_type": "code",
   "execution_count": 40,
   "metadata": {},
   "outputs": [],
   "source": [
    "tool = language_tool_python.LanguageTool('en-US')\n",
    "\n",
    "def extract_grammar_features(text):\n",
    "    matches = tool.check(text)\n",
    "    num_errors = len(matches)\n",
    "    text_len = len(text.split())\n",
    "    error_density = num_errors / text_len if text_len > 0 else 0\n",
    "    return num_errors, error_density\n"
   ]
  },
  {
   "cell_type": "markdown",
   "metadata": {},
   "source": [
    "# Prepare Dataset"
   ]
  },
  {
   "cell_type": "code",
   "execution_count": 41,
   "metadata": {},
   "outputs": [],
   "source": [
    "# replace with real transcribed text & human scores\n",
    "data = [\n",
    "    {\"text\": \"He go to school everyday\", \"score\": 2},\n",
    "    {\"text\": \"He goes to school every day\", \"score\": 5},\n",
    "]\n",
    "\n",
    "df = pd.DataFrame(data)\n",
    "df[['num_errors', 'error_density']] = df['text'].apply(\n",
    "    lambda x: pd.Series(extract_grammar_features(x))\n",
    ")"
   ]
  },
  {
   "cell_type": "markdown",
   "metadata": {},
   "source": [
    "# Train ML Model"
   ]
  },
  {
   "cell_type": "code",
   "execution_count": 42,
   "metadata": {},
   "outputs": [
    {
     "name": "stdout",
     "output_type": "stream",
     "text": [
      "MSE: 9.0\n"
     ]
    }
   ],
   "source": [
    "X = df[['num_errors', 'error_density']]\n",
    "y = df['score']\n",
    "\n",
    "X_train, X_test, y_train, y_test = train_test_split(X, y, test_size=0.2, random_state=42)\n",
    "\n",
    "model = RandomForestRegressor()\n",
    "model.fit(X_train, y_train)\n",
    "\n",
    "preds = model.predict(X_test)\n",
    "print(\"MSE:\", mean_squared_error(y_test, preds))"
   ]
  },
  {
   "cell_type": "markdown",
   "metadata": {},
   "source": [
    "# Full Prediction Pipeline"
   ]
  },
  {
   "cell_type": "code",
   "execution_count": 43,
   "metadata": {},
   "outputs": [],
   "source": [
    "def grammar_score_from_audio(audio_path, trained_model):\n",
    "    text = transcribe_audio(audio_path)\n",
    "    num_errors, error_density = extract_grammar_features(text)\n",
    "    score = trained_model.predict([[num_errors, error_density]])\n",
    "    return text, score[0]\n"
   ]
  },
  {
   "cell_type": "code",
   "execution_count": 44,
   "metadata": {},
   "outputs": [
    {
     "name": "stdout",
     "output_type": "stream",
     "text": [
      "Error during transcription: [WinError 2] The system cannot find the file specified\n",
      "Transcribed Text: \n",
      "Predicted Grammar Score: 2.00\n"
     ]
    }
   ],
   "source": [
    "audio_file = \"e:\\Assingment\\Grammer Voice Scoring\\Dataset\\Speaker26_000.wav\"  \n",
    "# Provide your audio file here\"\n",
    "text_output, predicted_score = grammar_score_from_audio(audio_file, model)\n",
    "\n",
    "print(f\"Transcribed Text: {text_output}\")\n",
    "print(f\"Predicted Grammar Score: {predicted_score:.2f}\")"
   ]
  }
 ],
 "metadata": {
  "kernelspec": {
   "display_name": "Python 3",
   "language": "python",
   "name": "python3"
  },
  "language_info": {
   "codemirror_mode": {
    "name": "ipython",
    "version": 3
   },
   "file_extension": ".py",
   "mimetype": "text/x-python",
   "name": "python",
   "nbconvert_exporter": "python",
   "pygments_lexer": "ipython3",
   "version": "3.12.2"
  }
 },
 "nbformat": 4,
 "nbformat_minor": 2
}
