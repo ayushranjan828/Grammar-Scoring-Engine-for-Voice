{
 "cells": [
  {
   "cell_type": "code",
   "execution_count": 3,
   "id": "f91802ac",
   "metadata": {},
   "outputs": [],
   "source": [
    "import librosa\n",
    "import numpy as np\n",
    "\n",
    "def extract_features(file_path, sr=16000, n_mfcc=13):\n",
    "    y, _ = librosa.load(file_path, sr=sr)\n",
    "    mfcc = librosa.feature.mfcc(y=y, sr=sr, n_mfcc=n_mfcc)\n",
    "    return np.mean(mfcc.T, axis=0)\n"
   ]
  },
  {
   "cell_type": "markdown",
   "id": "2cd2476d",
   "metadata": {},
   "source": [
    "# Prepare Training Data"
   ]
  },
  {
   "cell_type": "code",
   "execution_count": 7,
   "id": "3522a658",
   "metadata": {},
   "outputs": [
    {
     "name": "stderr",
     "output_type": "stream",
     "text": [
      "c:\\Users\\ayush\\anaconda3\\Lib\\site-packages\\paramiko\\pkey.py:82: CryptographyDeprecationWarning: TripleDES has been moved to cryptography.hazmat.decrepit.ciphers.algorithms.TripleDES and will be removed from this module in 48.0.0.\n",
      "  \"cipher\": algorithms.TripleDES,\n",
      "c:\\Users\\ayush\\anaconda3\\Lib\\site-packages\\paramiko\\transport.py:219: CryptographyDeprecationWarning: Blowfish has been moved to cryptography.hazmat.decrepit.ciphers.algorithms.Blowfish and will be removed from this module in 45.0.0.\n",
      "  \"class\": algorithms.Blowfish,\n",
      "c:\\Users\\ayush\\anaconda3\\Lib\\site-packages\\paramiko\\transport.py:243: CryptographyDeprecationWarning: TripleDES has been moved to cryptography.hazmat.decrepit.ciphers.algorithms.TripleDES and will be removed from this module in 48.0.0.\n",
      "  \"class\": algorithms.TripleDES,\n"
     ]
    }
   ],
   "source": [
    "import pandas as pd\n",
    "import os\n",
    "\n",
    "train_df = pd.read_csv(r\"C:\\Users\\ayush\\Downloads\\dataset\\train.csv\")\n",
    "X = []\n",
    "y = []\n",
    "\n",
    "for idx, row in train_df.iterrows():\n",
    "    file_path = os.path.join('audios_train', row['filename'])\n",
    "    features = extract_features(file_path)\n",
    "    X.append(features)\n",
    "    y.append(row['label'])\n",
    "\n",
    "X = np.array(X)\n",
    "y = np.array(y)\n"
   ]
  },
  {
   "cell_type": "markdown",
   "id": "2375542b",
   "metadata": {},
   "source": [
    "# 4. Model Training"
   ]
  },
  {
   "cell_type": "code",
   "execution_count": 20,
   "id": "458b9772",
   "metadata": {},
   "outputs": [
    {
     "name": "stdout",
     "output_type": "stream",
     "text": [
      "MSE: 1.3146067415730338\n",
      "R² Score: 0.12436932391523725\n",
      "              precision    recall  f1-score   support\n",
      "\n",
      "           1       0.00      0.00      0.00         1\n",
      "           2       0.52      0.39      0.45        28\n",
      "           3       0.30      0.56      0.39        18\n",
      "           4       0.32      0.35      0.33        17\n",
      "           5       0.62      0.40      0.49        25\n",
      "\n",
      "    accuracy                           0.42        89\n",
      "   macro avg       0.35      0.34      0.33        89\n",
      "weighted avg       0.46      0.42      0.42        89\n",
      "\n"
     ]
    },
    {
     "name": "stderr",
     "output_type": "stream",
     "text": [
      "c:\\Users\\ayush\\anaconda3\\Lib\\site-packages\\sklearn\\metrics\\_classification.py:1531: UndefinedMetricWarning: Precision is ill-defined and being set to 0.0 in labels with no predicted samples. Use `zero_division` parameter to control this behavior.\n",
      "  _warn_prf(average, modifier, f\"{metric.capitalize()} is\", len(result))\n",
      "c:\\Users\\ayush\\anaconda3\\Lib\\site-packages\\sklearn\\metrics\\_classification.py:1531: UndefinedMetricWarning: Precision is ill-defined and being set to 0.0 in labels with no predicted samples. Use `zero_division` parameter to control this behavior.\n",
      "  _warn_prf(average, modifier, f\"{metric.capitalize()} is\", len(result))\n",
      "c:\\Users\\ayush\\anaconda3\\Lib\\site-packages\\sklearn\\metrics\\_classification.py:1531: UndefinedMetricWarning: Precision is ill-defined and being set to 0.0 in labels with no predicted samples. Use `zero_division` parameter to control this behavior.\n",
      "  _warn_prf(average, modifier, f\"{metric.capitalize()} is\", len(result))\n"
     ]
    }
   ],
   "source": [
    "from sklearn.ensemble import RandomForestClassifier\n",
    "from sklearn.model_selection import train_test_split\n",
    "from sklearn.metrics import classification_report\n",
    "\n",
    "# Split the data\n",
    "X_train, X_val, y_train, y_val = train_test_split(X, y, test_size=0.2, random_state=42)\n",
    "\n",
    "# Train the classifier\n",
    "clf = RandomForestClassifier(n_estimators=100, random_state=42)\n",
    "clf.fit(X_train, y_train)\n",
    "\n",
    "# Evaluating the model\n",
    "print(\"MSE:\", mean_squared_error(y_val, y_pred))\n",
    "print(\"R² Score:\", r2_score(y_val, y_pred))\n",
    "\n",
    "# Predict and evaluate\n",
    "y_pred = clf.predict(X_val)\n",
    "print(classification_report(y_val, y_pred))\n"
   ]
  },
  {
   "cell_type": "markdown",
   "id": "542ab469",
   "metadata": {},
   "source": [
    "# Inference on Test Set"
   ]
  },
  {
   "cell_type": "code",
   "execution_count": 25,
   "id": "00707eaa",
   "metadata": {},
   "outputs": [],
   "source": [
    "test_features = []\n",
    "\n",
    "# Loop through each file in the test dataframe\n",
    "for file in test_df['filename']:\n",
    "    file_path = os.path.join('audios_test', file)\n",
    "    features = extract_features(file_path)\n",
    "    test_features.append(features)\n",
    "\n",
    "# Convert list of features to a NumPy array\n",
    "test_features = np.array(test_features)\n",
    "\n",
    "# Make predictions\n",
    "predictions = clf.predict(test_features)"
   ]
  },
  {
   "cell_type": "code",
   "execution_count": 26,
   "id": "cc55db57",
   "metadata": {},
   "outputs": [
    {
     "data": {
      "text/plain": [
       "array([2, 2, 4, 3, 2, 2, 2, 3, 4, 2, 2, 2, 2, 3, 2, 2, 2, 2, 2, 5, 3, 2,\n",
       "       2, 4, 3, 5, 3, 3, 3, 3, 2, 2, 2, 5, 4, 2, 3, 3, 2, 2, 5, 2, 2, 4,\n",
       "       3, 3, 2, 2, 3, 4, 2, 4, 4, 4, 3, 3, 5, 3, 2, 3, 4, 4, 5, 3, 3, 3,\n",
       "       3, 2, 4, 5, 3, 4, 3, 3, 3, 2, 4, 4, 3, 4, 5, 3, 2, 2, 3, 3, 3, 4,\n",
       "       4, 2, 3, 5, 2, 4, 2, 3, 3, 5, 4, 4, 5, 4, 3, 5, 4, 5, 5, 3, 5, 3,\n",
       "       2, 4, 3, 3, 4, 4, 5, 5, 5, 3, 4, 3, 5, 5, 4, 4, 4, 3, 4, 3, 4, 5,\n",
       "       3, 3, 5, 3, 3, 3, 3, 4, 5, 4, 3, 3, 3, 2, 2, 5, 5, 5, 4, 4, 5, 3,\n",
       "       4, 4, 4, 4, 3, 5, 4, 5, 3, 4, 3, 5, 5, 3, 4, 5, 5, 4, 4, 5, 3, 4,\n",
       "       4, 4, 5, 5, 3, 4, 3, 4, 3, 3, 4, 5, 3, 5, 4, 4, 4, 5, 5])"
      ]
     },
     "execution_count": 26,
     "metadata": {},
     "output_type": "execute_result"
    }
   ],
   "source": [
    "predictions"
   ]
  },
  {
   "cell_type": "markdown",
   "id": "859a2c1f",
   "metadata": {},
   "source": [
    "# Create Submission File"
   ]
  },
  {
   "cell_type": "code",
   "execution_count": 30,
   "id": "15f5639c",
   "metadata": {},
   "outputs": [],
   "source": [
    "submission = pd.DataFrame({\n",
    "    'file_name': test_df['filename'],\n",
    "    'label': predictions\n",
    "})\n",
    "submission.to_csv('submit.csv', index=False)\n"
   ]
  },
  {
   "cell_type": "code",
   "execution_count": 32,
   "id": "e1838e8b",
   "metadata": {},
   "outputs": [
    {
     "name": "stdout",
     "output_type": "stream",
     "text": [
      "        file_name  label\n",
      "0   audio_706.wav      2\n",
      "1   audio_800.wav      2\n",
      "2    audio_68.wav      4\n",
      "3  audio_1267.wav      3\n",
      "4   audio_683.wav      2\n"
     ]
    }
   ],
   "source": [
    "df = pd.read_csv('submit.csv')\n",
    "print(df.head())"
   ]
  }
 ],
 "metadata": {
  "kernelspec": {
   "display_name": "base",
   "language": "python",
   "name": "python3"
  },
  "language_info": {
   "codemirror_mode": {
    "name": "ipython",
    "version": 3
   },
   "file_extension": ".py",
   "mimetype": "text/x-python",
   "name": "python",
   "nbconvert_exporter": "python",
   "pygments_lexer": "ipython3",
   "version": "3.12.7"
  }
 },
 "nbformat": 4,
 "nbformat_minor": 5
}
